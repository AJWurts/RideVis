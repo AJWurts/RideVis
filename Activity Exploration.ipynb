{
 "cells": [
  {
   "cell_type": "code",
   "execution_count": 253,
   "metadata": {},
   "outputs": [],
   "source": [
    "import pandas as pd\n",
    "import numpy as np\n",
    "import matplotlib.pyplot as plt\n",
    "from date import Date\n",
    "\n",
    "\n",
    "\n",
    "# '2015-10-10T13:00:00Z'\n",
    "df = pd.read_json(\"activities.json\", dtype=True)\n",
    "df['start_date'] = df['start_date'].map(Date)\n",
    "rides = df[df.type == 'Ride']\n"
   ]
  },
  {
   "cell_type": "code",
   "execution_count": 254,
   "metadata": {},
   "outputs": [
    {
     "name": "stderr",
     "output_type": "stream",
     "text": [
      "/Library/Frameworks/Python.framework/Versions/3.7/lib/python3.7/site-packages/ipykernel_launcher.py:1: SettingWithCopyWarning: \n",
      "A value is trying to be set on a copy of a slice from a DataFrame.\n",
      "Try using .loc[row_indexer,col_indexer] = value instead\n",
      "\n",
      "See the caveats in the documentation: http://pandas.pydata.org/pandas-docs/stable/indexing.html#indexing-view-versus-copy\n",
      "  \"\"\"Entry point for launching an IPython kernel.\n",
      "/Library/Frameworks/Python.framework/Versions/3.7/lib/python3.7/site-packages/ipykernel_launcher.py:2: SettingWithCopyWarning: \n",
      "A value is trying to be set on a copy of a slice from a DataFrame.\n",
      "Try using .loc[row_indexer,col_indexer] = value instead\n",
      "\n",
      "See the caveats in the documentation: http://pandas.pydata.org/pandas-docs/stable/indexing.html#indexing-view-versus-copy\n",
      "  \n",
      "/Library/Frameworks/Python.framework/Versions/3.7/lib/python3.7/site-packages/ipykernel_launcher.py:3: SettingWithCopyWarning: \n",
      "A value is trying to be set on a copy of a slice from a DataFrame.\n",
      "Try using .loc[row_indexer,col_indexer] = value instead\n",
      "\n",
      "See the caveats in the documentation: http://pandas.pydata.org/pandas-docs/stable/indexing.html#indexing-view-versus-copy\n",
      "  This is separate from the ipykernel package so we can avoid doing imports until\n",
      "/Library/Frameworks/Python.framework/Versions/3.7/lib/python3.7/site-packages/ipykernel_launcher.py:6: SettingWithCopyWarning: \n",
      "A value is trying to be set on a copy of a slice from a DataFrame.\n",
      "Try using .loc[row_indexer,col_indexer] = value instead\n",
      "\n",
      "See the caveats in the documentation: http://pandas.pydata.org/pandas-docs/stable/indexing.html#indexing-view-versus-copy\n",
      "  \n"
     ]
    }
   ],
   "source": [
    "rides['weekNumber'] = rides['start_date'].apply(lambda x: x.weekNumber)\n",
    "rides['month']= rides['start_date'].apply(lambda x: x.month)\n",
    "rides['year'] = rides['start_date'].apply(lambda x: x.year)\n",
    "dataForVis = rides[['weekNumber', 'month', 'year', 'start_date', 'distance', 'total_elevation_gain', 'elapsed_time', 'pr_count', 'average_speed', 'average_watts', 'average_temp']]\n",
    "count = pd.Series(1, index=dataForVis.index)\n",
    "dataForVis['count'] = count"
   ]
  },
  {
   "cell_type": "code",
   "execution_count": 255,
   "metadata": {},
   "outputs": [],
   "source": [
    "# rides.hist(column=rides.select_dtypes(include=['float64']).columns)\n",
    "numberCols = rides.select_dtypes(include=['float64'])\n",
    "numberCols = numberCols.drop(columns=['elev_high', 'elev_low', 'from_accepted_tag', 'start_latitude', 'start_longitude', 'workout_type', 'device_watts'])\n"
   ]
  },
  {
   "cell_type": "code",
   "execution_count": 261,
   "metadata": {},
   "outputs": [],
   "source": [
    "grouping = dataForVis.groupby(['year', 'month'])\n",
    "\n",
    "rides_by_month = grouping.mean()\n",
    "totals = grouping.sum()[['pr_count', 'distance', 'total_elevation_gain', 'elapsed_time', 'count']]\n",
    "rides_by_month[['pr_count', 'distance', 'total_elevation_gain', 'elapsed_time', 'count']] = totals\n",
    "\n",
    "## Filling in missing data using new index\n",
    "monthNumbers = list(range(0,12))\n",
    "years = rides['year'].unique()\n",
    "newIndexList = [(y, m) for m in monthNumbers for y in years]\n",
    "new_index = pd.MultiIndex.from_tuples(newIndexList, names=['year', 'month'])\n",
    "rides_by_month = rides_by_month.reindex(new_index)\n",
    "rides_by_month.fillna(0, inplace=True)\n",
    "\n",
    "rides_by_month.reset_index(inplace=True)\n",
    "rides_by_month.to_csv('rides_by_month.csv')\n"
   ]
  },
  {
   "cell_type": "code",
   "execution_count": 262,
   "metadata": {},
   "outputs": [],
   "source": [
    "grouping = dataForVis.groupby(['year', 'weekNumber'])\n",
    "\n",
    "rides_by_week = grouping.mean()\n",
    "totals = grouping.sum()[['pr_count', 'distance', 'total_elevation_gain', 'elapsed_time', 'count']]\n",
    "rides_by_week[['pr_count', 'distance', 'total_elevation_gain', 'elapsed_time', 'count']] = totals\n",
    "\n",
    "## Filling in missing data using new index\n",
    "weekNumbers = list(range(0,52))\n",
    "years = rides['year'].unique()\n",
    "newIndexList = [(y, w) for w in weekNumbers for y in years]\n",
    "new_index = pd.MultiIndex.from_tuples(newIndexList, names=['year', 'weekNumber'])\n",
    "rides_by_week = rides_by_week.reindex(new_index)\n",
    "rides_by_week.fillna(0, inplace=True)\n",
    "rides_by_week.reset_index(inplace=True)\n",
    "rides_by_week.to_csv('rides_by_week.csv')"
   ]
  },
  {
   "cell_type": "code",
   "execution_count": 263,
   "metadata": {},
   "outputs": [],
   "source": [
    "selected = rides[['average_heartrate', 'average_speed', 'weighted_average_watts', 'distance', 'kilojoules', 'max_watts']]"
   ]
  },
  {
   "cell_type": "code",
   "execution_count": 264,
   "metadata": {
    "scrolled": true
   },
   "outputs": [],
   "source": [
    "## Save to Json\n",
    "\n",
    "rides_by_week.to_json(\"rides_by_week.json\", orient='records')\n",
    "rides_by_month.to_json(\"rides_by_month.json\",orient='records')"
   ]
  },
  {
   "cell_type": "code",
   "execution_count": null,
   "metadata": {},
   "outputs": [],
   "source": []
  }
 ],
 "metadata": {
  "kernelspec": {
   "display_name": "Python 3",
   "language": "python",
   "name": "python3"
  },
  "language_info": {
   "codemirror_mode": {
    "name": "ipython",
    "version": 3
   },
   "file_extension": ".py",
   "mimetype": "text/x-python",
   "name": "python",
   "nbconvert_exporter": "python",
   "pygments_lexer": "ipython3",
   "version": "3.7.2"
  }
 },
 "nbformat": 4,
 "nbformat_minor": 2
}

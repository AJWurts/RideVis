{
 "cells": [
  {
   "cell_type": "code",
   "execution_count": 10,
   "metadata": {},
   "outputs": [
    {
     "name": "stderr",
     "output_type": "stream",
     "text": [
      "C:\\Users\\Sigpit\\Anaconda3\\envs\\datascience\\lib\\site-packages\\ipykernel_launcher.py:12: SettingWithCopyWarning: \n",
      "A value is trying to be set on a copy of a slice from a DataFrame.\n",
      "Try using .loc[row_indexer,col_indexer] = value instead\n",
      "\n",
      "See the caveats in the documentation: http://pandas.pydata.org/pandas-docs/stable/indexing.html#indexing-view-versus-copy\n",
      "  if sys.path[0] == '':\n",
      "C:\\Users\\Sigpit\\Anaconda3\\envs\\datascience\\lib\\site-packages\\ipykernel_launcher.py:13: SettingWithCopyWarning: \n",
      "A value is trying to be set on a copy of a slice from a DataFrame.\n",
      "Try using .loc[row_indexer,col_indexer] = value instead\n",
      "\n",
      "See the caveats in the documentation: http://pandas.pydata.org/pandas-docs/stable/indexing.html#indexing-view-versus-copy\n",
      "  del sys.path[0]\n",
      "C:\\Users\\Sigpit\\Anaconda3\\envs\\datascience\\lib\\site-packages\\ipykernel_launcher.py:14: SettingWithCopyWarning: \n",
      "A value is trying to be set on a copy of a slice from a DataFrame.\n",
      "Try using .loc[row_indexer,col_indexer] = value instead\n",
      "\n",
      "See the caveats in the documentation: http://pandas.pydata.org/pandas-docs/stable/indexing.html#indexing-view-versus-copy\n",
      "  \n"
     ]
    }
   ],
   "source": [
    "import pandas as pd\n",
    "import numpy as np\n",
    "import matplotlib.pyplot as plt\n",
    "from date import Date\n",
    "\n",
    "\n",
    "\n",
    "# '2015-10-10T13:00:00Z'\n",
    "df = pd.read_json(\"activities.json\", dtype=True)\n",
    "df['start_date'] = df['start_date'].map(Date)\n",
    "rides = df[df.type == 'Ride']\n",
    "rides['weekNumber'] = rides['start_date'].apply(lambda x: x.weekNumber)\n",
    "rides['month']= rides['start_date'].apply(lambda x: x.month)\n",
    "rides['year'] = rides['start_date'].apply(lambda x: x.year)"
   ]
  },
  {
   "cell_type": "code",
   "execution_count": 278,
   "metadata": {},
   "outputs": [
    {
     "name": "stderr",
     "output_type": "stream",
     "text": [
      "/Library/Frameworks/Python.framework/Versions/3.7/lib/python3.7/site-packages/ipykernel_launcher.py:1: SettingWithCopyWarning: \n",
      "A value is trying to be set on a copy of a slice from a DataFrame.\n",
      "Try using .loc[row_indexer,col_indexer] = value instead\n",
      "\n",
      "See the caveats in the documentation: http://pandas.pydata.org/pandas-docs/stable/indexing.html#indexing-view-versus-copy\n",
      "  \"\"\"Entry point for launching an IPython kernel.\n",
      "/Library/Frameworks/Python.framework/Versions/3.7/lib/python3.7/site-packages/ipykernel_launcher.py:2: SettingWithCopyWarning: \n",
      "A value is trying to be set on a copy of a slice from a DataFrame.\n",
      "Try using .loc[row_indexer,col_indexer] = value instead\n",
      "\n",
      "See the caveats in the documentation: http://pandas.pydata.org/pandas-docs/stable/indexing.html#indexing-view-versus-copy\n",
      "  \n",
      "/Library/Frameworks/Python.framework/Versions/3.7/lib/python3.7/site-packages/ipykernel_launcher.py:3: SettingWithCopyWarning: \n",
      "A value is trying to be set on a copy of a slice from a DataFrame.\n",
      "Try using .loc[row_indexer,col_indexer] = value instead\n",
      "\n",
      "See the caveats in the documentation: http://pandas.pydata.org/pandas-docs/stable/indexing.html#indexing-view-versus-copy\n",
      "  This is separate from the ipykernel package so we can avoid doing imports until\n",
      "/Library/Frameworks/Python.framework/Versions/3.7/lib/python3.7/site-packages/ipykernel_launcher.py:6: SettingWithCopyWarning: \n",
      "A value is trying to be set on a copy of a slice from a DataFrame.\n",
      "Try using .loc[row_indexer,col_indexer] = value instead\n",
      "\n",
      "See the caveats in the documentation: http://pandas.pydata.org/pandas-docs/stable/indexing.html#indexing-view-versus-copy\n",
      "  \n",
      "/Library/Frameworks/Python.framework/Versions/3.7/lib/python3.7/site-packages/ipykernel_launcher.py:8: SettingWithCopyWarning: \n",
      "A value is trying to be set on a copy of a slice from a DataFrame.\n",
      "Try using .loc[row_indexer,col_indexer] = value instead\n",
      "\n",
      "See the caveats in the documentation: http://pandas.pydata.org/pandas-docs/stable/indexing.html#indexing-view-versus-copy\n",
      "  \n",
      "/Library/Frameworks/Python.framework/Versions/3.7/lib/python3.7/site-packages/ipykernel_launcher.py:9: SettingWithCopyWarning: \n",
      "A value is trying to be set on a copy of a slice from a DataFrame.\n",
      "Try using .loc[row_indexer,col_indexer] = value instead\n",
      "\n",
      "See the caveats in the documentation: http://pandas.pydata.org/pandas-docs/stable/indexing.html#indexing-view-versus-copy\n",
      "  if __name__ == '__main__':\n",
      "/Library/Frameworks/Python.framework/Versions/3.7/lib/python3.7/site-packages/ipykernel_launcher.py:10: SettingWithCopyWarning: \n",
      "A value is trying to be set on a copy of a slice from a DataFrame.\n",
      "Try using .loc[row_indexer,col_indexer] = value instead\n",
      "\n",
      "See the caveats in the documentation: http://pandas.pydata.org/pandas-docs/stable/indexing.html#indexing-view-versus-copy\n",
      "  # Remove the CWD from sys.path while we load stuff.\n",
      "/Library/Frameworks/Python.framework/Versions/3.7/lib/python3.7/site-packages/ipykernel_launcher.py:11: SettingWithCopyWarning: \n",
      "A value is trying to be set on a copy of a slice from a DataFrame.\n",
      "Try using .loc[row_indexer,col_indexer] = value instead\n",
      "\n",
      "See the caveats in the documentation: http://pandas.pydata.org/pandas-docs/stable/indexing.html#indexing-view-versus-copy\n",
      "  # This is added back by InteractiveShellApp.init_path()\n"
     ]
    }
   ],
   "source": [
    "\n",
    "dataForVis = rides[['weekNumber', 'month', 'year', 'start_date', 'distance', 'total_elevation_gain', 'elapsed_time', 'pr_count', 'average_speed', 'average_watts', 'average_temp']]\n",
    "count = pd.Series(1, index=dataForVis.index)\n",
    "dataForVis['count'] = count\n",
    "\n",
    "dataForVis['distance'] = dataForVis['distance'] / 1609\n",
    "dataForVis['total_elevation_gain'] = dataForVis['total_elevation_gain'] * 3.28083\n",
    "dataForVis['average_speed'] = dataForVis['average_speed'] * 2.23694\n",
    "dataForVis['average_temp'] = (dataForVis['average_temp'] * (9/5)) + 32\n"
   ]
  },
  {
   "cell_type": "code",
   "execution_count": 279,
   "metadata": {},
   "outputs": [],
   "source": [
    "# rides.hist(column=rides.select_dtypes(include=['float64']).columns)\n",
    "numberCols = rides.select_dtypes(include=['float64'])\n",
    "numberCols = numberCols.drop(columns=['elev_high', 'elev_low', 'from_accepted_tag', 'start_latitude', 'start_longitude', 'workout_type', 'device_watts'])\n"
   ]
  },
  {
   "cell_type": "code",
   "execution_count": 280,
   "metadata": {},
   "outputs": [],
   "source": [
    "grouping = dataForVis.groupby(['year', 'month'])\n",
    "\n",
    "rides_by_month = grouping.mean()\n",
    "totals = grouping.sum()[['pr_count', 'distance', 'total_elevation_gain', 'elapsed_time', 'count']]\n",
    "rides_by_month[['pr_count', 'distance', 'total_elevation_gain', 'elapsed_time', 'count']] = totals\n",
    "\n",
    "## Filling in missing data using new index\n",
    "monthNumbers = list(range(0,12))\n",
    "years = rides['year'].unique()\n",
    "newIndexList = [(y, m) for m in monthNumbers for y in years]\n",
    "new_index = pd.MultiIndex.from_tuples(newIndexList, names=['year', 'month'])\n",
    "rides_by_month = rides_by_month.reindex(new_index)\n",
    "rides_by_month.fillna(0, inplace=True)\n",
    "\n",
    "rides_by_month.reset_index(inplace=True)\n",
    "rides_by_month.to_csv('./docs/rides_by_month.csv')\n"
   ]
  },
  {
   "cell_type": "code",
   "execution_count": 281,
   "metadata": {},
   "outputs": [],
   "source": [
    "grouping = dataForVis.groupby(['year', 'weekNumber'])\n",
    "\n",
    "rides_by_week = grouping.mean()\n",
    "totals = grouping.sum()[['pr_count', 'distance', 'total_elevation_gain', 'elapsed_time', 'count']]\n",
    "rides_by_week[['pr_count', 'distance', 'total_elevation_gain', 'elapsed_time', 'count']] = totals\n",
    "\n",
    "## Filling in missing data using new index\n",
    "weekNumbers = list(range(0,52))\n",
    "years = rides['year'].unique()\n",
    "newIndexList = [(y, w) for w in weekNumbers for y in years]\n",
    "new_index = pd.MultiIndex.from_tuples(newIndexList, names=['year', 'weekNumber'])\n",
    "rides_by_week = rides_by_week.reindex(new_index)\n",
    "rides_by_week.fillna(0, inplace=True)\n",
    "rides_by_week.reset_index(inplace=True)\n",
    "rides_by_week.to_csv('./docs/rides_by_week.csv')"
   ]
  },
  {
   "cell_type": "code",
   "execution_count": 282,
   "metadata": {},
   "outputs": [],
   "source": [
    "selected = rides[['average_heartrate', 'average_speed', 'weighted_average_watts', 'distance', 'kilojoules', 'max_watts']]"
   ]
  },
  {
   "cell_type": "code",
   "execution_count": 283,
   "metadata": {
    "scrolled": true
   },
   "outputs": [],
   "source": [
    "## Save to Json\n",
    "\n",
    "rides_by_week.to_json(\"./docs/rides_by_week.json\", orient='records')\n",
    "rides_by_month.to_json(\"./docs/rides_by_month.json\",orient='records')"
   ]
  },
  {
   "cell_type": "code",
   "execution_count": 11,
   "metadata": {},
   "outputs": [],
   "source": [
    "selectedAttributes = rides[['distance', 'total_elevation_gain', 'average_watts', 'average_speed',\n",
    "                            'start_date', 'average_temp', 'average_cadence', 'moving_time', 'pr_count']]"
   ]
  },
  {
   "cell_type": "code",
   "execution_count": 12,
   "metadata": {},
   "outputs": [
    {
     "data": {
      "text/plain": [
       "Index(['achievement_count', 'athlete', 'athlete_count', 'average_cadence',\n",
       "       'average_heartrate', 'average_speed', 'average_temp', 'average_watts',\n",
       "       'comment_count', 'commute', 'device_watts',\n",
       "       'display_hide_heartrate_option', 'distance', 'elapsed_time',\n",
       "       'elev_high', 'elev_low', 'end_latlng', 'external_id', 'flagged',\n",
       "       'from_accepted_tag', 'gear_id', 'has_heartrate', 'has_kudoed',\n",
       "       'heartrate_opt_out', 'id', 'kilojoules', 'kudos_count', 'location_city',\n",
       "       'location_country', 'location_state', 'manual', 'map', 'max_heartrate',\n",
       "       'max_speed', 'max_watts', 'moving_time', 'name', 'photo_count',\n",
       "       'pr_count', 'private', 'resource_state', 'start_date',\n",
       "       'start_date_local', 'start_latitude', 'start_latlng', 'start_longitude',\n",
       "       'timezone', 'total_elevation_gain', 'total_photo_count', 'trainer',\n",
       "       'type', 'upload_id', 'utc_offset', 'visibility',\n",
       "       'weighted_average_watts', 'workout_type', 'weekNumber', 'month',\n",
       "       'year'],\n",
       "      dtype='object')"
      ]
     },
     "execution_count": 12,
     "metadata": {},
     "output_type": "execute_result"
    }
   ],
   "source": [
    "rides.columns"
   ]
  },
  {
   "cell_type": "code",
   "execution_count": 13,
   "metadata": {},
   "outputs": [],
   "source": [
    "selectedAttributes.to_json('rides.json', orient='records')"
   ]
  },
  {
   "cell_type": "code",
   "execution_count": null,
   "metadata": {},
   "outputs": [],
   "source": []
  },
  {
   "cell_type": "code",
   "execution_count": null,
   "metadata": {},
   "outputs": [],
   "source": []
  }
 ],
 "metadata": {
  "kernelspec": {
   "display_name": "Python 3",
   "language": "python",
   "name": "python3"
  },
  "language_info": {
   "codemirror_mode": {
    "name": "ipython",
    "version": 3
   },
   "file_extension": ".py",
   "mimetype": "text/x-python",
   "name": "python",
   "nbconvert_exporter": "python",
   "pygments_lexer": "ipython3",
   "version": "3.6.5"
  }
 },
 "nbformat": 4,
 "nbformat_minor": 2
}
